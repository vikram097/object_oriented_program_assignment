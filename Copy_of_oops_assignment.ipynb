{
  "nbformat": 4,
  "nbformat_minor": 0,
  "metadata": {
    "colab": {
      "provenance": []
    },
    "kernelspec": {
      "name": "python3",
      "display_name": "Python 3"
    },
    "language_info": {
      "name": "python"
    }
  },
  "cells": [
    {
      "cell_type": "markdown",
      "source": [
        "question 1-->What are the five key concepts of Object-Oriented Programming (OOP)?\n",
        "ans-->The five key concepts of Object-Oriented Programming (OOP) are:\n",
        "\n",
        "Encapsulation: Bundling the data (attributes) and methods (functions) that operate on the data into a single unit or class, and restricting direct access to some of the object’s components to protect the integrity of the object.\n",
        "\n",
        "Abstraction: Hiding complex implementation details and showing only the essential features of the object. It helps in reducing complexity and increasing efficiency by focusing on relevant data.\n",
        "\n",
        "Inheritance: Allowing a new class (child class) to inherit properties and methods from an existing class (parent class), promoting code reuse and establishing a relationship between classes.\n",
        "\n",
        "Polymorphism: Enabling objects to be treated as instances of their parent class while using overridden methods to perform different tasks. It allows for flexibility by enabling one interface to be used for a general class of actions.\n",
        "\n",
        "Classes and Objects: A class is a blueprint or template for creating objects. An object is an instance of a class, representing an entity that combines both state (attributes) and behavior (methods)."
      ],
      "metadata": {
        "id": "AKeGQU1jTS3a"
      }
    },
    {
      "cell_type": "code",
      "source": [
        "#question 2-->Write a Python class for a Car with attributes for make, model, and year. Include a method to display\n",
        "#the car's information.\n",
        "\n",
        "#answer-->\n",
        "class Car:\n",
        "    def __init__(self, make, model, year):\n",
        "        self.make = make\n",
        "        self.model = model\n",
        "        self.year = year\n",
        "\n",
        "    def display_info(self):\n",
        "        print(f\"Car Information: {self.year} {self.make} {self.model}\")\n",
        "my_car = Car(\"Toyota\", \"Corolla\", 2020)\n",
        "my_car.display_info()"
      ],
      "metadata": {
        "id": "bZalPelI1eYe",
        "colab": {
          "base_uri": "https://localhost:8080/"
        },
        "outputId": "e832faab-e54d-48b0-e2ba-71edb679e576"
      },
      "execution_count": null,
      "outputs": [
        {
          "output_type": "stream",
          "name": "stdout",
          "text": [
            "Car Information: 2020 Toyota Corolla\n"
          ]
        }
      ]
    },
    {
      "cell_type": "code",
      "source": [
        "#question 3-->Explain the difference between instance methods and class methods. Provide an example of each.\n",
        "#answer-->In Python, instance methods and class methods are two types of methods that serve different purposes and operate on different types of data.\n",
        "\n",
        "# 1. Instance Methods:\n",
        "# Definition: These methods are defined within a class and operate on instances (objects) of the class. They take self as the first parameter, which represents the instance itself.\n",
        "# Access: Instance methods can access and modify object-specific attributes (data that belongs to the instance).\n",
        "# Invocation: Called on an instance of the class.\n",
        "#example-->\n",
        "class Car:\n",
        "    def __init__(self, make, model, year):\n",
        "        self.make = make\n",
        "        self.model = model\n",
        "        self.year = year\n",
        "    def display_info(self):\n",
        "        print(f\"Car Information: {self.year} {self.make} {self.model}\")\n",
        "my_car = Car(\"Toyota\", \"Corolla\", 2020)\n",
        "my_car.display_info()\n",
        "\n",
        "# 2. Class Methods:\n",
        "# Definition: These methods are bound to the class, not the instance of the class. They take cls as the first parameter, which represents the class itself.\n",
        "# Access: Class methods can access and modify class-level attributes (attributes shared among all instances of the class) but cannot access instance-specific data unless it's passed in.\n",
        "# Invocation: Can be called on both the class itself and its instances.\n",
        "# Decorator: Defined using the @classmethod decorator.\n",
        "#example-->\n",
        "class Car:\n",
        "    total_cars = 0\n",
        "\n",
        "    def __init__(self, make, model, year):\n",
        "        self.make = make\n",
        "        self.model = model\n",
        "        self.year = year\n",
        "        Car.total_cars += 1\n",
        "\n",
        "\n",
        "    @classmethod\n",
        "    def display_total_cars(cls):\n",
        "        print(f\"Total number of cars: {cls.total_cars}\")\n",
        "car1 = Car(\"Toyota\", \"Corolla\", 2020)\n",
        "car2 = Car(\"Honda\", \"Civic\", 2019)\n",
        "Car.display_total_cars()\n"
      ],
      "metadata": {
        "colab": {
          "base_uri": "https://localhost:8080/"
        },
        "id": "e76ho6vy2eRP",
        "outputId": "7dd4ab68-970b-48bf-e0fc-dfa999f7a08d"
      },
      "execution_count": null,
      "outputs": [
        {
          "output_type": "stream",
          "name": "stdout",
          "text": [
            "Car Information: 2020 Toyota Corolla\n",
            "Total number of cars: 2\n"
          ]
        }
      ]
    },
    {
      "cell_type": "code",
      "source": [
        "#4. How does Python implement method overloading? Give an example.\n",
        "#answer-->\n",
        "# Python does not natively support method overloading in the same way languages like Java or C++ do. In these languages, multiple methods with the same name can exist if they have different parameter types or numbers. However, Python handles this differently due to its dynamic typing system.\n",
        "# Instead of traditional overloading, Python achieves similar functionality through the following approaches:\n",
        "# 1. Using Default Arguments:\n",
        "# Python allows you to define a method with default values for parameters. This way, the method can be called with a varying number of arguments, simulating overloading.\n",
        "# Example with Default Arguments:\n",
        "class Calculator:\n",
        "    def add(self, a, b=0, c=0):\n",
        "        return a + b + c\n",
        "\n",
        "calc = Calculator()\n",
        "print(calc.add(10))\n",
        "print(calc.add(10, 5))\n",
        "print(calc.add(10, 5, 3))\n",
        "\n",
        "# 2. Using *args or **kwargs:\n",
        "# You can also use variable-length argument lists (*args for positional arguments and **kwargs for keyword arguments) to accept a flexible number of arguments in a method.\n",
        "# Example with *args:\n",
        "class Calculator:\n",
        "    def add(self, *args):\n",
        "        return sum(args)\n",
        "\n",
        "calc = Calculator()\n",
        "print(calc.add(10))\n",
        "print(calc.add(10, 5))\n",
        "print(calc.add(10, 5, 3, 2))\n",
        "\n",
        "# 3. Using @singledispatch from functools:\n",
        "# The @singledispatch decorator allows you to register different versions of a function based on the type of the first argument.\n",
        "# Example with @singledispatch:\n",
        "from functools import singledispatch\n",
        "@singledispatch\n",
        "def operate(data):\n",
        "    raise NotImplementedError(\"Unsupported type\")\n",
        "@operate.register(int)\n",
        "def _(data):\n",
        "    return data + 10\n",
        "@operate.register(str)\n",
        "def _(data):\n",
        "    return data.upper()\n",
        "print(operate(10))\n",
        "print(operate(\"hello\"))\n"
      ],
      "metadata": {
        "colab": {
          "base_uri": "https://localhost:8080/"
        },
        "id": "bhAXODA-kI2_",
        "outputId": "0d29f34d-b5fe-49df-f9a7-fbfce4b920fe"
      },
      "execution_count": null,
      "outputs": [
        {
          "output_type": "stream",
          "name": "stdout",
          "text": [
            "10\n",
            "15\n",
            "18\n",
            "10\n",
            "15\n",
            "20\n",
            "20\n",
            "HELLO\n"
          ]
        }
      ]
    },
    {
      "cell_type": "code",
      "source": [
        "#question 5.--> What are the three types of access modifiers in Python? How are they denoted?\n",
        "#answer-->\n",
        "# In Python, access modifiers control the visibility and accessibility of class attributes and methods. While Python doesn't have strict access control like some other languages (e.g., Java or C++), it uses naming conventions to indicate access levels. The three types of access modifiers in Python are:\n",
        "# 1. Public:\n",
        "# Description: Public members are accessible from anywhere, both inside and outside the class.\n",
        "# Denotation: No special prefix is used. Any attribute or method without an underscore prefix is considered public.\n",
        "# Example\n",
        "class Car:\n",
        "    def __init__(self, make, model):\n",
        "        self.make = make\n",
        "        self.model = model\n",
        "    def display_info(self):\n",
        "        print(f\"{self.make} {self.model}\")\n",
        "car = Car(\"Toyota\", \"Corolla\")\n",
        "print(car.make)\n",
        "car.display_info()\n",
        "\n",
        "# 2. Protected:\n",
        "# Description: Protected members are intended to be accessible only within the class and its subclasses. However, they can still be accessed outside the class in Python, though this is discouraged.\n",
        "# Denotation: A single leading underscore (_) is used to indicate that the member is protected.\n",
        "class Car:\n",
        "    def __init__(self, make, model):\n",
        "        self._engine = \"V8\"\n",
        "\n",
        "    def _start_engine(self):\n",
        "        print(\"Engine started\")\n",
        "\n",
        "class SportsCar(Car):\n",
        "    def use_engine(self):\n",
        "        print(f\"Using {self._engine} engine\")\n",
        "\n",
        "car = SportsCar(\"Ferrari\", \"488\")\n",
        "car.use_engine()\n",
        "# 3. Private:\n",
        "# Description: Private members are intended to be accessible only within the class where they are defined. Python performs \"name mangling\" to make it harder (but not impossible) to access private members from outside the class.\n",
        "# Denotation: A double leading underscore (__) is used to indicate that the member is private.\n",
        "# Example\n",
        "class Car:\n",
        "    def __init__(self, make, model):\n",
        "        self.__vin_number = \"123ABC456\"\n",
        "\n",
        "    def __display_vin(self):\n",
        "        print(f\"VIN: {self.__vin_number}\")\n",
        "\n",
        "    def display_info(self):\n",
        "        self.__display_vin()\n",
        "\n",
        "car = Car(\"Toyota\", \"Corolla\")\n",
        "\n",
        "\n"
      ],
      "metadata": {
        "colab": {
          "base_uri": "https://localhost:8080/"
        },
        "id": "zg1WdlAckdMG",
        "outputId": "34e1b267-6f91-44a8-a4dc-0a6af3ef6768"
      },
      "execution_count": null,
      "outputs": [
        {
          "output_type": "stream",
          "name": "stdout",
          "text": [
            "Toyota\n",
            "Toyota Corolla\n",
            "Using V8 engine\n"
          ]
        }
      ]
    },
    {
      "cell_type": "code",
      "source": [
        "#question 6-->Describe the five types of inheritance in Python. Provide a simple example of multiple inheritance.\n",
        "#answer--> There are five types of inheritance in Python:\n",
        "# 1. Single Inheritance:\n",
        "# In this type of inheritance, a subclass inherits from one superclass. This is the simplest form of inheritance.\n",
        "# Example\n",
        "class Animal:\n",
        "    def speak(self):\n",
        "        print(\"Animal speaks\")\n",
        "class Dog(Animal):\n",
        "    def bark(self):\n",
        "        print(\"Dog barks\")\n",
        "dog = Dog()\n",
        "dog.speak()\n",
        "dog.bark()\n",
        "\n",
        "# 2. Multiple Inheritance:\n",
        "# In multiple inheritance, a subclass can inherit from more than one superclass. This means the child class inherits attributes and methods from multiple parent classes.\n",
        "#example\n",
        "class Flyer:\n",
        "    def fly(self):\n",
        "        print(\"Flying\")\n",
        "\n",
        "class Swimmer:\n",
        "    def swim(self):\n",
        "        print(\"Swimming\")\n",
        "\n",
        "class Duck(Flyer, Swimmer):\n",
        "    def quack(self):\n",
        "        print(\"Quacking\")\n",
        "\n",
        "duck = Duck()\n",
        "duck.fly()\n",
        "duck.swim()\n",
        "duck.quack()\n",
        "\n",
        "# 3. Multilevel Inheritance:\n",
        "# In multilevel inheritance, a class inherits from a superclass, and another class inherits from the derived class. This forms a chain of inheritance.\n",
        "# Example\n",
        "class Animal:\n",
        "    def speak(self):\n",
        "        print(\"Animal speaks\")\n",
        "\n",
        "class Dog(Animal):\n",
        "    def bark(self):\n",
        "        print(\"Dog barks\")\n",
        "\n",
        "class Puppy(Dog):\n",
        "    def play(self):\n",
        "        print(\"Puppy plays\")\n",
        "\n",
        "puppy = Puppy()\n",
        "puppy.speak()\n",
        "puppy.bark()\n",
        "puppy.play()\n",
        "\n",
        "# 4. Hierarchical Inheritance:\n",
        "# In hierarchical inheritance, multiple subclasses inherit from a single superclass. Each subclass can have its own unique attributes and methods, but they all share common functionality from the parent class.\n",
        "\n",
        "# Example\n",
        "class Animal:\n",
        "    def speak(self):\n",
        "        print(\"Animal speaks\")\n",
        "class Dog(Animal):\n",
        "    def bark(self):\n",
        "        print(\"Dog barks\")\n",
        "class Cat(Animal):\n",
        "    def meow(self):\n",
        "        print(\"Cat meows\")\n",
        "dog = Dog()\n",
        "cat = Cat()\n",
        "dog.speak()\n",
        "dog.bark()\n",
        "cat.speak()\n",
        "cat.meow()\n",
        "\n",
        "# 5. Hybrid Inheritance:\n",
        "# Hybrid inheritance is a combination of more than one type of inheritance. For example, it can include both multiple and multilevel inheritance.\n",
        "\n",
        "# Example\n",
        "class Animal:\n",
        "    def speak(self):\n",
        "        print(\"Animal speaks\")\n",
        "class Mammal(Animal):\n",
        "    def walk(self):\n",
        "        print(\"Mammal walks\")\n",
        "class Bird(Animal):\n",
        "    def fly(self):\n",
        "        print(\"Bird flies\")\n",
        "class Bat(Mammal, Bird):\n",
        "    def hang(self):\n",
        "        print(\"Bat hangs upside down\")\n",
        "\n",
        "bat = Bat()\n",
        "bat.speak()\n",
        "bat.walk()\n",
        "bat.fly()\n",
        "bat.hang()\n"
      ],
      "metadata": {
        "colab": {
          "base_uri": "https://localhost:8080/"
        },
        "id": "JW4ccfh_k6Xs",
        "outputId": "f621dd42-65e1-4ccb-a205-8eb484066d57"
      },
      "execution_count": null,
      "outputs": [
        {
          "output_type": "stream",
          "name": "stdout",
          "text": [
            "Animal speaks\n",
            "Dog barks\n",
            "Flying\n",
            "Swimming\n",
            "Quacking\n",
            "Animal speaks\n",
            "Dog barks\n",
            "Puppy plays\n",
            "Animal speaks\n",
            "Dog barks\n",
            "Animal speaks\n",
            "Cat meows\n",
            "Animal speaks\n",
            "Mammal walks\n",
            "Bird flies\n",
            "Bat hangs upside down\n"
          ]
        }
      ]
    },
    {
      "cell_type": "code",
      "source": [
        "#question 7-->What is the Method Resolution Order (MRO) in Python? How can you retrieve it programmatically?\n",
        "#answer-->\n",
        "# Method Resolution Order (MRO) in Python\n",
        "# The Method Resolution Order (MRO) in Python is the order in which Python looks for a method in a hierarchy of classes when there is inheritance. It is particularly important in cases of multiple inheritance, where a method or attribute can exist in more than one parent class. The MRO determines which method is invoked when called on an instance of the child class.\n",
        "\n",
        "# Python follows the C3 linearization algorithm (also known as the C3 superclass linearization) to compute the MRO. This ensures that the method lookup is done in a consistent and predictable order, following a depth-first, left-to-right order for searching parent classes.\n",
        "# Key Points about MRO:\n",
        "# First, look at the class itself: Python checks if the method is defined in the class of the object itself.\n",
        "# Next, move to the first parent (in case of single inheritance) or left-most base class (in multiple inheritance).\n",
        "# Follow the chain up to the topmost base class, which is usually object, the ultimate ancestor of all classes in Python.\n",
        "# Retrieving the MRO Programmatically\n",
        "# You can retrieve the MRO of a class in Python using:\n",
        "\n",
        "# ClassName.__mro__: This returns a tuple showing the method resolution order of the class.\n",
        "# ClassName.mro(): This returns a list of the classes in the order Python will look through them for method resolution.\n",
        "# help(ClassName): This displays detailed information, including the MRO, for the class.\n",
        "class A:\n",
        "    def method(self):\n",
        "        print(\"Method in A\")\n",
        "\n",
        "class B(A):\n",
        "    def method(self):\n",
        "        print(\"Method in B\")\n",
        "\n",
        "class C(A):\n",
        "    def method(self):\n",
        "        print(\"Method in C\")\n",
        "\n",
        "class D(B, C):\n",
        "    pass\n",
        "\n",
        "\n",
        "print(D.__mro__)\n",
        "\n",
        "\n",
        "print(D.mro())\n",
        "\n",
        "help(D)\n",
        "\n"
      ],
      "metadata": {
        "colab": {
          "base_uri": "https://localhost:8080/"
        },
        "id": "nFKw870blObN",
        "outputId": "0ab16383-4c10-4428-a334-7c1e155a0e88"
      },
      "execution_count": null,
      "outputs": [
        {
          "output_type": "stream",
          "name": "stdout",
          "text": [
            "(<class '__main__.D'>, <class '__main__.B'>, <class '__main__.C'>, <class '__main__.A'>, <class 'object'>)\n",
            "[<class '__main__.D'>, <class '__main__.B'>, <class '__main__.C'>, <class '__main__.A'>, <class 'object'>]\n",
            "Help on class D in module __main__:\n",
            "\n",
            "class D(B, C)\n",
            " |  Method resolution order:\n",
            " |      D\n",
            " |      B\n",
            " |      C\n",
            " |      A\n",
            " |      builtins.object\n",
            " |  \n",
            " |  Methods inherited from B:\n",
            " |  \n",
            " |  method(self)\n",
            " |  \n",
            " |  ----------------------------------------------------------------------\n",
            " |  Data descriptors inherited from A:\n",
            " |  \n",
            " |  __dict__\n",
            " |      dictionary for instance variables (if defined)\n",
            " |  \n",
            " |  __weakref__\n",
            " |      list of weak references to the object (if defined)\n",
            "\n"
          ]
        }
      ]
    },
    {
      "cell_type": "code",
      "source": [
        "#question 8-->Create an abstract base class Shape with an abstract method area(). Then create two subclasses\n",
        "#Circle and Rectangle that implement the area() method\n",
        "#answer-->\n",
        "from abc import ABC, abstractmethod\n",
        "import math\n",
        "\n",
        "# Abstract base class\n",
        "class Shape(ABC):\n",
        "\n",
        "    @abstractmethod\n",
        "    def area(self):\n",
        "        pass\n",
        "\n",
        "# Subclass Circle that implements the area method\n",
        "class Circle(Shape):\n",
        "    def __init__(self, radius):\n",
        "        self.radius = radius\n",
        "\n",
        "    def area(self):\n",
        "        return math.pi * self.radius ** 2\n",
        "\n",
        "# Subclass Rectangle that implements the area method\n",
        "class Rectangle(Shape):\n",
        "    def __init__(self, width, height):\n",
        "        self.width = width\n",
        "        self.height = height\n",
        "\n",
        "    def area(self):\n",
        "        return self.width * self.height\n",
        "\n",
        "# Example usage\n",
        "circle = Circle(5)\n",
        "rectangle = Rectangle(4, 6)\n",
        "\n",
        "print(f\"Area of the circle: {circle.area():.2f}\")    # Output: Area of the circle: 78.54\n",
        "print(f\"Area of the rectangle: {rectangle.area()}\")  # Output: Area of the rectangle: 24\n"
      ],
      "metadata": {
        "colab": {
          "base_uri": "https://localhost:8080/"
        },
        "id": "DOSBj3uSmSWJ",
        "outputId": "3e97d115-b19e-4668-a5b1-720d587498ab"
      },
      "execution_count": null,
      "outputs": [
        {
          "output_type": "stream",
          "name": "stdout",
          "text": [
            "Area of the circle: 78.54\n",
            "Area of the rectangle: 24\n"
          ]
        }
      ]
    },
    {
      "cell_type": "code",
      "source": [
        "#question 9-->Demonstrate polymorphism by creating a function that can work with different shape objects to calculate\n",
        "#and print their areas\n",
        "#answer-->from abc import ABC, abstractmethod\n",
        "import math\n",
        "\n",
        "# Abstract base class\n",
        "class Shape(ABC):\n",
        "\n",
        "    @abstractmethod\n",
        "    def area(self):\n",
        "        pass\n",
        "\n",
        "# Subclass Circle that implements the area method\n",
        "class Circle(Shape):\n",
        "    def __init__(self, radius):\n",
        "        self.radius = radius\n",
        "\n",
        "    def area(self):\n",
        "        return math.pi * self.radius ** 2\n",
        "\n",
        "# Subclass Rectangle that implements the area method\n",
        "class Rectangle(Shape):\n",
        "    def __init__(self, width, height):\n",
        "        self.width = width\n",
        "        self.height = height\n",
        "\n",
        "    def area(self):\n",
        "        return self.width * self.height\n"
      ],
      "metadata": {
        "colab": {
          "base_uri": "https://localhost:8080/"
        },
        "id": "6SMOWd-pmq5A",
        "outputId": "d12c8c29-f99d-42a8-a8e1-6afbf7816ee6"
      },
      "execution_count": null,
      "outputs": [
        {
          "output_type": "execute_result",
          "data": {
            "text/plain": [
              "float"
            ]
          },
          "metadata": {},
          "execution_count": 8
        }
      ]
    },
    {
      "cell_type": "code",
      "source": [
        "#question 10--> Implement encapsulation in a BankAccount class with private attributes for balance and\n",
        "#account_number. Include methods for deposit, withdrawal, and balance inquiry\n",
        "#answer-->\n",
        "class BankAccount:\n",
        "    def __init__(self, account_number, initial_balance=0):\n",
        "        self.__account_number = account_number  # Private attribute\n",
        "        self.__balance = initial_balance        # Private attribute\n",
        "\n",
        "    # Method to deposit money\n",
        "    def deposit(self, amount):\n",
        "        if amount > 0:\n",
        "            self.__balance += amount\n",
        "            print(f\"Deposited: ${amount:.2f}\")\n",
        "        else:\n",
        "            print(\"Deposit amount must be positive.\")\n",
        "\n",
        "    # Method to withdraw money\n",
        "    def withdraw(self, amount):\n",
        "        if 0 < amount <= self.__balance:\n",
        "            self.__balance -= amount\n",
        "            print(f\"Withdrew: ${amount:.2f}\")\n",
        "        elif amount > self.__balance:\n",
        "            print(\"Insufficient funds.\")\n",
        "        else:\n",
        "            print(\"Withdrawal amount must be positive.\")\n",
        "\n",
        "    # Method to check the balance\n",
        "    def get_balance(self):\n",
        "        print(f\"Current balance: ${self.__balance:.2f}\")\n",
        "        return self.__balance\n",
        "\n",
        "    # Method to get account number (read-only)\n",
        "    def get_account_number(self):\n",
        "        return self.__account_number\n",
        "\n",
        "# Example usage\n",
        "account = BankAccount(\"12345678\", 1000)\n",
        "account.get_balance()\n",
        "account.deposit(200)\n",
        "account.get_balance()\n",
        "account.withdraw(300)\n",
        "account.get_balance()\n",
        "account.withdraw(1200)\n",
        "print(account.get_account_number())\n",
        "\n"
      ],
      "metadata": {
        "id": "XvYg-eG1mmJG",
        "colab": {
          "base_uri": "https://localhost:8080/"
        },
        "outputId": "559ede5f-e2d7-4993-a81b-51e2520c86f8"
      },
      "execution_count": null,
      "outputs": [
        {
          "output_type": "stream",
          "name": "stdout",
          "text": [
            "Current balance: $1000.00\n",
            "Deposited: $200.00\n",
            "Current balance: $1200.00\n",
            "Withdrew: $300.00\n",
            "Current balance: $900.00\n",
            "Insufficient funds.\n",
            "12345678\n"
          ]
        }
      ]
    },
    {
      "cell_type": "code",
      "source": [
        "#question 11-->Write a class that overrides the __str__ and __add__ magic methods. What will these methods allow\n",
        "#you to do?\n",
        "#answer-->\n",
        "class Vector:\n",
        "    def __init__(self, x, y):\n",
        "        self.x = x\n",
        "        self.y = y\n",
        "\n",
        "    def __str__(self):\n",
        "        return f\"Vector({self.x}, {self.y})\"\n",
        "\n",
        "\n",
        "    def __add__(self, other):\n",
        "        if isinstance(other, Vector):\n",
        "            return Vector(self.x + other.x, self.y + other.y)\n",
        "        return NotImplemented\n",
        "\n",
        "vector1 = Vector(2, 3)\n",
        "vector2 = Vector(4, 5)\n",
        "\n",
        "print(vector1)\n",
        "\n",
        "result_vector = vector1 + vector2\n",
        "print(result_vector)\n"
      ],
      "metadata": {
        "id": "JtZwkSPWgShl",
        "outputId": "8f206532-1e20-491c-8b61-22f17d317303",
        "colab": {
          "base_uri": "https://localhost:8080/"
        }
      },
      "execution_count": null,
      "outputs": [
        {
          "output_type": "stream",
          "name": "stdout",
          "text": [
            "Vector(2, 3)\n",
            "Vector(6, 8)\n"
          ]
        }
      ]
    },
    {
      "cell_type": "code",
      "source": [
        "#question 12--> Create a decorator that measures and prints the execution time of a function.\n",
        "#answer-->\n",
        "import time\n",
        "\n",
        "def time_it(func):\n",
        "    \"\"\"Decorator to measure the execution time of a function.\"\"\"\n",
        "    def wrapper(*args, **kwargs):\n",
        "        start_time = time.time()\n",
        "        result = func(*args, **kwargs)\n",
        "        end_time = time.time()\n",
        "        execution_time = end_time - start_time\n",
        "        print(f\"Execution time of {func.__name__}: {execution_time:.4f} seconds\")\n",
        "        return result\n",
        "    return wrapper\n",
        "\n",
        "\n",
        "@time_it\n",
        "def some_heavy_computation(n):\n",
        "    \"\"\"Simulates a heavy computation by summing up a range of numbers.\"\"\"\n",
        "    total = sum(range(n))\n",
        "    return total\n",
        "\n",
        "result = some_heavy_computation(10**6)\n",
        "print(f\"Result: {result}\")\n"
      ],
      "metadata": {
        "id": "OCUoXMecgm2v"
      },
      "execution_count": null,
      "outputs": []
    },
    {
      "cell_type": "code",
      "source": [
        "#question 13--> Explain the concept of the Diamond Problem in multiple inheritance. How does Python resolve it?\n",
        "#answer-->\n",
        "# The Diamond Problem is a common issue in object-oriented programming that arises when a class inherits from two or more classes that have a common base class. This situation creates ambiguity about which superclass's methods or properties should be inherited by the subclass, leading to potential conflicts\n",
        "# How Python Resolves the Diamond Problem\n",
        "# Python uses the C3 Linearization (or C3 superclass linearization) algorithm to resolve the Diamond Problem. This algorithm creates a specific method resolution order (MRO) that determines the order in which classes are looked up when searching for methods or attributes.\n",
        "class A:\n",
        "    def show(self):\n",
        "        return \"Method from A\"\n",
        "\n",
        "class B(A):\n",
        "    def show(self):\n",
        "        return \"Method from B\"\n",
        "\n",
        "class C(A):\n",
        "    def show(self):\n",
        "        return \"Method from C\"\n",
        "\n",
        "class D(B, C):\n",
        "    pass\n",
        "d = D()\n",
        "\n",
        "print(d.show())\n",
        "\n",
        "print(D.__mro__)\n"
      ],
      "metadata": {
        "id": "-kx8fQswg9EO",
        "outputId": "36e1c78d-41e7-4328-8ff2-74be70f5def2",
        "colab": {
          "base_uri": "https://localhost:8080/"
        }
      },
      "execution_count": null,
      "outputs": [
        {
          "output_type": "stream",
          "name": "stdout",
          "text": [
            "Method from B\n",
            "(<class '__main__.D'>, <class '__main__.B'>, <class '__main__.C'>, <class '__main__.A'>, <class 'object'>)\n"
          ]
        }
      ]
    },
    {
      "cell_type": "code",
      "source": [
        "#question 14. Write a class method that keeps track of the number of instances created from a class.\n",
        "#answer-->\n",
        "# To keep track of the number of instances created from a class, you can use a class variable that increments each time an instance is created. This can be achieved by defining a class method that updates the count and a constructor (__init__) to manage the instance creation.\n",
        "\n",
        "class InstanceCounter:\n",
        "\n",
        "    instance_count = 0\n",
        "\n",
        "    def __init__(self):\n",
        "\n",
        "        InstanceCounter.instance_count += 1\n",
        "\n",
        "    @classmethod\n",
        "    def get_instance_count(cls):\n",
        "        \"\"\"Class method to get the current instance count.\"\"\"\n",
        "        return cls.instance_count\n",
        "\n",
        "obj1 = InstanceCounter()\n",
        "obj2 = InstanceCounter()\n",
        "obj3 = InstanceCounter()\n",
        "\n",
        "print(f\"Number of instances created: {InstanceCounter.get_instance_count()}\")\n"
      ],
      "metadata": {
        "id": "kHxiy4zmh2Mw",
        "outputId": "b484d54d-07a8-4102-adf3-3f691361fe9f",
        "colab": {
          "base_uri": "https://localhost:8080/"
        }
      },
      "execution_count": null,
      "outputs": [
        {
          "output_type": "stream",
          "name": "stdout",
          "text": [
            "Number of instances created: 3\n"
          ]
        }
      ]
    },
    {
      "cell_type": "code",
      "source": [
        "#question 15. Implement a static method in a class that checks if a given year is a leap year.\n",
        "#answer-->\n",
        "class YearUtils:\n",
        "    @staticmethod\n",
        "    def is_leap_year(year):\n",
        "        \"\"\"Check if a given year is a leap year.\"\"\"\n",
        "        if (year % 4 == 0 and year % 100 != 0) or (year % 400 == 0):\n",
        "            return True\n",
        "        return False\n",
        "year = 2024\n",
        "if YearUtils.is_leap_year(year):\n",
        "    print(f\"{year} is a leap year.\")\n",
        "else:\n",
        "    print(f\"{year} is not a leap year.\")\n",
        "\n",
        "year = 1900\n",
        "if YearUtils.is_leap_year(year):\n",
        "    print(f\"{year} is a leap year.\")\n",
        "else:\n",
        "    print(f\"{year} is not a leap year.\")\n",
        "\n",
        "year = 2000\n",
        "if YearUtils.is_leap_year(year):\n",
        "    print(f\"{year} is a leap year.\")\n",
        "else:\n",
        "    print(f\"{year} is not a leap year.\")\n"
      ],
      "metadata": {
        "id": "i7NyXIt3ijUK",
        "outputId": "7c101dde-e39a-4e12-ed06-aaa9e7b734c7",
        "colab": {
          "base_uri": "https://localhost:8080/"
        }
      },
      "execution_count": null,
      "outputs": [
        {
          "output_type": "stream",
          "name": "stdout",
          "text": [
            "2024 is a leap year.\n",
            "1900 is not a leap year.\n",
            "2000 is a leap year.\n"
          ]
        }
      ]
    }
  ]
}